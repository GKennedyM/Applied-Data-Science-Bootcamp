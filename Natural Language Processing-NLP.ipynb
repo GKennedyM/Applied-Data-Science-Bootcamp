{
 "cells": [
  {
   "cell_type": "markdown",
   "id": "6f01ce1a",
   "metadata": {},
   "source": [
    "## Natural Language Processing"
   ]
  },
  {
   "cell_type": "code",
   "execution_count": 1,
   "id": "b809fba9",
   "metadata": {},
   "outputs": [],
   "source": [
    "# pip install nltk"
   ]
  },
  {
   "cell_type": "code",
   "execution_count": 2,
   "id": "870dd629",
   "metadata": {},
   "outputs": [],
   "source": [
    "import warnings\n",
    "warnings.filterwarnings('ignore')"
   ]
  },
  {
   "cell_type": "code",
   "execution_count": 3,
   "id": "c32175dd",
   "metadata": {},
   "outputs": [],
   "source": [
    "import nltk"
   ]
  },
  {
   "cell_type": "code",
   "execution_count": 4,
   "id": "99c1274c",
   "metadata": {},
   "outputs": [
    {
     "name": "stderr",
     "output_type": "stream",
     "text": [
      "[nltk_data] Downloading package punkt to\n",
      "[nltk_data]     C:\\Users\\gilbe\\AppData\\Roaming\\nltk_data...\n",
      "[nltk_data]   Package punkt is already up-to-date!\n"
     ]
    },
    {
     "data": {
      "text/plain": [
       "True"
      ]
     },
     "execution_count": 4,
     "metadata": {},
     "output_type": "execute_result"
    }
   ],
   "source": [
    "nltk.download('punkt')"
   ]
  },
  {
   "cell_type": "code",
   "execution_count": 5,
   "id": "f74abe71",
   "metadata": {},
   "outputs": [],
   "source": [
    "mys='Welcome to Data Science Boot Camp. I hope you liked it. It was an interesting adventure. Did you like my adventure?'"
   ]
  },
  {
   "cell_type": "code",
   "execution_count": 6,
   "id": "0828e96f",
   "metadata": {},
   "outputs": [
    {
     "data": {
      "text/plain": [
       "['Welcome to Data Science Boot Camp',\n",
       " ' I hope you liked it',\n",
       " ' It was an interesting adventure',\n",
       " ' Did you like my adventure?']"
      ]
     },
     "execution_count": 6,
     "metadata": {},
     "output_type": "execute_result"
    }
   ],
   "source": [
    "mys.split('.')"
   ]
  },
  {
   "cell_type": "code",
   "execution_count": 7,
   "id": "11b07ecd",
   "metadata": {},
   "outputs": [
    {
     "data": {
      "text/plain": [
       "[1, 2, 3, 'Gilbert', 'Quantum Physics', 'AI', 'Entaglement', True, False]"
      ]
     },
     "execution_count": 7,
     "metadata": {},
     "output_type": "execute_result"
    }
   ],
   "source": [
    "[1,2,3,'Gilbert','Quantum Physics','AI','Entaglement',True,False]"
   ]
  },
  {
   "cell_type": "code",
   "execution_count": 8,
   "id": "6c0adffc",
   "metadata": {},
   "outputs": [],
   "source": [
    "from nltk.tokenize import sent_tokenize"
   ]
  },
  {
   "cell_type": "code",
   "execution_count": 9,
   "id": "27deb183",
   "metadata": {},
   "outputs": [
    {
     "data": {
      "text/plain": [
       "['Welcome to Data Science Boot Camp.',\n",
       " 'I hope you liked it.',\n",
       " 'It was an interesting adventure.',\n",
       " 'Did you like my adventure?']"
      ]
     },
     "execution_count": 9,
     "metadata": {},
     "output_type": "execute_result"
    }
   ],
   "source": [
    "sent_tokenize(mys)"
   ]
  },
  {
   "cell_type": "code",
   "execution_count": 10,
   "id": "6b4b7161",
   "metadata": {},
   "outputs": [],
   "source": [
    "# Named Entity Recognition"
   ]
  },
  {
   "cell_type": "code",
   "execution_count": 11,
   "id": "b8c5dc03",
   "metadata": {},
   "outputs": [],
   "source": [
    "from nltk.tokenize import word_tokenize"
   ]
  },
  {
   "cell_type": "code",
   "execution_count": 12,
   "id": "ae47414f",
   "metadata": {},
   "outputs": [
    {
     "data": {
      "text/plain": [
       "['Welcome',\n",
       " 'to',\n",
       " 'Data',\n",
       " 'Science',\n",
       " 'Boot',\n",
       " 'Camp',\n",
       " '.',\n",
       " 'I',\n",
       " 'hope',\n",
       " 'you',\n",
       " 'liked',\n",
       " 'it',\n",
       " '.',\n",
       " 'It',\n",
       " 'was',\n",
       " 'an',\n",
       " 'interesting',\n",
       " 'adventure',\n",
       " '.',\n",
       " 'Did',\n",
       " 'you',\n",
       " 'like',\n",
       " 'my',\n",
       " 'adventure',\n",
       " '?']"
      ]
     },
     "execution_count": 12,
     "metadata": {},
     "output_type": "execute_result"
    }
   ],
   "source": [
    "word_tokenize(mys)"
   ]
  },
  {
   "cell_type": "code",
   "execution_count": 13,
   "id": "b659de47",
   "metadata": {},
   "outputs": [],
   "source": [
    "from nltk.stem import PorterStemmer"
   ]
  },
  {
   "cell_type": "raw",
   "id": "8c03f0bd",
   "metadata": {},
   "source": [
    "I play\n",
    "I played\n",
    "I go\n",
    "I went\n",
    "\n",
    "Lemma and Stemma removes prefixes and suffixes and tense"
   ]
  },
  {
   "cell_type": "code",
   "execution_count": 14,
   "id": "f1eb49c1",
   "metadata": {},
   "outputs": [],
   "source": [
    "pr=PorterStemmer()"
   ]
  },
  {
   "cell_type": "code",
   "execution_count": 15,
   "id": "daaddcd1",
   "metadata": {},
   "outputs": [
    {
     "data": {
      "text/plain": [
       "'talk'"
      ]
     },
     "execution_count": 15,
     "metadata": {},
     "output_type": "execute_result"
    }
   ],
   "source": [
    "pr.stem('talking')"
   ]
  },
  {
   "cell_type": "code",
   "execution_count": 16,
   "id": "03a4b7d9",
   "metadata": {},
   "outputs": [
    {
     "data": {
      "text/plain": [
       "'happi'"
      ]
     },
     "execution_count": 16,
     "metadata": {},
     "output_type": "execute_result"
    }
   ],
   "source": [
    "pr.stem('happiness')"
   ]
  },
  {
   "cell_type": "code",
   "execution_count": 17,
   "id": "84eef52f",
   "metadata": {},
   "outputs": [
    {
     "name": "stdout",
     "output_type": "stream",
     "text": [
      "0\n",
      "1\n",
      "2\n",
      "3\n",
      "4\n",
      "5\n",
      "6\n",
      "7\n",
      "8\n",
      "9\n"
     ]
    }
   ],
   "source": [
    "#list comprehension\n",
    "for i in range(10):\n",
    "    print(i)"
   ]
  },
  {
   "cell_type": "code",
   "execution_count": 18,
   "id": "141a7fd4",
   "metadata": {},
   "outputs": [
    {
     "data": {
      "text/plain": [
       "[0, 1, 2, 3, 4, 5, 6, 7, 8, 9]"
      ]
     },
     "execution_count": 18,
     "metadata": {},
     "output_type": "execute_result"
    }
   ],
   "source": [
    "[i for i in range(10)]"
   ]
  },
  {
   "cell_type": "code",
   "execution_count": 19,
   "id": "70cc8322",
   "metadata": {},
   "outputs": [
    {
     "data": {
      "text/plain": [
       "['welcom',\n",
       " 'to',\n",
       " 'data',\n",
       " 'scienc',\n",
       " 'boot',\n",
       " 'camp',\n",
       " '.',\n",
       " 'i',\n",
       " 'hope',\n",
       " 'you',\n",
       " 'like',\n",
       " 'it',\n",
       " '.',\n",
       " 'it',\n",
       " 'wa',\n",
       " 'an',\n",
       " 'interest',\n",
       " 'adventur',\n",
       " '.',\n",
       " 'did',\n",
       " 'you',\n",
       " 'like',\n",
       " 'my',\n",
       " 'adventur',\n",
       " '?']"
      ]
     },
     "execution_count": 19,
     "metadata": {},
     "output_type": "execute_result"
    }
   ],
   "source": [
    "[pr.stem(word) for word in word_tokenize(mys) ]"
   ]
  },
  {
   "cell_type": "code",
   "execution_count": 20,
   "id": "af048c3e",
   "metadata": {},
   "outputs": [
    {
     "name": "stderr",
     "output_type": "stream",
     "text": [
      "[nltk_data] Downloading package omw-1.4 to\n",
      "[nltk_data]     C:\\Users\\gilbe\\AppData\\Roaming\\nltk_data...\n",
      "[nltk_data]   Package omw-1.4 is already up-to-date!\n"
     ]
    },
    {
     "data": {
      "text/plain": [
       "True"
      ]
     },
     "execution_count": 20,
     "metadata": {},
     "output_type": "execute_result"
    }
   ],
   "source": [
    "from nltk.stem import WordNetLemmatizer\n",
    "nltk.download('omw-1.4')\n"
   ]
  },
  {
   "cell_type": "code",
   "execution_count": 21,
   "id": "8a6ecebe",
   "metadata": {},
   "outputs": [],
   "source": [
    "lm=WordNetLemmatizer()"
   ]
  },
  {
   "cell_type": "code",
   "execution_count": 22,
   "id": "4e84d98f",
   "metadata": {},
   "outputs": [
    {
     "name": "stderr",
     "output_type": "stream",
     "text": [
      "[nltk_data] Downloading package wordnet to\n",
      "[nltk_data]     C:\\Users\\gilbe\\AppData\\Roaming\\nltk_data...\n",
      "[nltk_data]   Package wordnet is already up-to-date!\n"
     ]
    },
    {
     "data": {
      "text/plain": [
       "True"
      ]
     },
     "execution_count": 22,
     "metadata": {},
     "output_type": "execute_result"
    }
   ],
   "source": [
    "nltk.download('wordnet')"
   ]
  },
  {
   "cell_type": "code",
   "execution_count": 23,
   "id": "ab662df9",
   "metadata": {},
   "outputs": [
    {
     "data": {
      "text/plain": [
       "'work'"
      ]
     },
     "execution_count": 23,
     "metadata": {},
     "output_type": "execute_result"
    }
   ],
   "source": [
    "lm.lemmatize('working', pos='v')"
   ]
  },
  {
   "cell_type": "code",
   "execution_count": 24,
   "id": "24304112",
   "metadata": {},
   "outputs": [
    {
     "data": {
      "text/plain": [
       "'take'"
      ]
     },
     "execution_count": 24,
     "metadata": {},
     "output_type": "execute_result"
    }
   ],
   "source": [
    "lm.lemmatize('took', pos='v')"
   ]
  },
  {
   "cell_type": "code",
   "execution_count": 25,
   "id": "6aa01b74",
   "metadata": {},
   "outputs": [
    {
     "data": {
      "text/plain": [
       "'baby'"
      ]
     },
     "execution_count": 25,
     "metadata": {},
     "output_type": "execute_result"
    }
   ],
   "source": [
    "lm.lemmatize('babies', pos='n')"
   ]
  },
  {
   "cell_type": "code",
   "execution_count": 26,
   "id": "ffd93888",
   "metadata": {},
   "outputs": [
    {
     "name": "stderr",
     "output_type": "stream",
     "text": [
      "[nltk_data] Downloading package averaged_perceptron_tagger to\n",
      "[nltk_data]     C:\\Users\\gilbe\\AppData\\Roaming\\nltk_data...\n",
      "[nltk_data]   Package averaged_perceptron_tagger is already up-to-\n",
      "[nltk_data]       date!\n"
     ]
    },
    {
     "data": {
      "text/plain": [
       "True"
      ]
     },
     "execution_count": 26,
     "metadata": {},
     "output_type": "execute_result"
    }
   ],
   "source": [
    "nltk.download('averaged_perceptron_tagger')"
   ]
  },
  {
   "cell_type": "code",
   "execution_count": 27,
   "id": "b6f3b5d6",
   "metadata": {},
   "outputs": [
    {
     "data": {
      "text/plain": [
       "[('Welcome', 'JJ'),\n",
       " ('to', 'TO'),\n",
       " ('Data', 'NNP'),\n",
       " ('Science', 'NNP'),\n",
       " ('Boot', 'NNP'),\n",
       " ('Camp', 'NNP'),\n",
       " ('.', '.'),\n",
       " ('I', 'PRP'),\n",
       " ('hope', 'VBP'),\n",
       " ('you', 'PRP'),\n",
       " ('liked', 'VBD'),\n",
       " ('it', 'PRP'),\n",
       " ('.', '.'),\n",
       " ('It', 'PRP'),\n",
       " ('was', 'VBD'),\n",
       " ('an', 'DT'),\n",
       " ('interesting', 'JJ'),\n",
       " ('adventure', 'NN'),\n",
       " ('.', '.'),\n",
       " ('Did', 'NNP'),\n",
       " ('you', 'PRP'),\n",
       " ('like', 'IN'),\n",
       " ('my', 'PRP$'),\n",
       " ('adventure', 'NN'),\n",
       " ('?', '.')]"
      ]
     },
     "execution_count": 27,
     "metadata": {},
     "output_type": "execute_result"
    }
   ],
   "source": [
    "nltk.pos_tag(word_tokenize(mys))"
   ]
  },
  {
   "cell_type": "code",
   "execution_count": 28,
   "id": "256de09d",
   "metadata": {},
   "outputs": [],
   "source": [
    "# pip install autocorrect"
   ]
  },
  {
   "cell_type": "code",
   "execution_count": 29,
   "id": "5db74876",
   "metadata": {},
   "outputs": [],
   "source": [
    "from autocorrect import spell"
   ]
  },
  {
   "cell_type": "code",
   "execution_count": 31,
   "id": "c3af2a25",
   "metadata": {},
   "outputs": [
    {
     "name": "stdout",
     "output_type": "stream",
     "text": [
      "autocorrect.spell is deprecated,             use autocorrect.Speller instead\n"
     ]
    },
    {
     "data": {
      "text/plain": [
       "'my spelling is good'"
      ]
     },
     "execution_count": 31,
     "metadata": {},
     "output_type": "execute_result"
    }
   ],
   "source": [
    "spell('my splling is goad')"
   ]
  },
  {
   "cell_type": "code",
   "execution_count": 33,
   "id": "148b289f",
   "metadata": {},
   "outputs": [],
   "source": [
    "# pip install langdetect"
   ]
  },
  {
   "cell_type": "code",
   "execution_count": 34,
   "id": "0a27df72",
   "metadata": {},
   "outputs": [],
   "source": [
    "from langdetect import detect"
   ]
  },
  {
   "cell_type": "code",
   "execution_count": 35,
   "id": "50041b95",
   "metadata": {},
   "outputs": [
    {
     "data": {
      "text/plain": [
       "'en'"
      ]
     },
     "execution_count": 35,
     "metadata": {},
     "output_type": "execute_result"
    }
   ],
   "source": [
    "detect('Hello World')"
   ]
  },
  {
   "cell_type": "code",
   "execution_count": 40,
   "id": "337acc1a",
   "metadata": {},
   "outputs": [
    {
     "data": {
      "text/plain": [
       "'id'"
      ]
     },
     "execution_count": 40,
     "metadata": {},
     "output_type": "execute_result"
    }
   ],
   "source": [
    "detect('Merhaba Dunya')"
   ]
  },
  {
   "cell_type": "code",
   "execution_count": 37,
   "id": "0e1cdbee",
   "metadata": {},
   "outputs": [
    {
     "data": {
      "text/plain": [
       "'fr'"
      ]
     },
     "execution_count": 37,
     "metadata": {},
     "output_type": "execute_result"
    }
   ],
   "source": [
    "detect('Bonjour mademoisselle')"
   ]
  },
  {
   "cell_type": "code",
   "execution_count": 38,
   "id": "4aac0455",
   "metadata": {},
   "outputs": [
    {
     "data": {
      "text/plain": [
       "'de'"
      ]
     },
     "execution_count": 38,
     "metadata": {},
     "output_type": "execute_result"
    }
   ],
   "source": [
    "detect('Eins Zwei drei')"
   ]
  },
  {
   "cell_type": "code",
   "execution_count": 39,
   "id": "659635a9",
   "metadata": {},
   "outputs": [
    {
     "data": {
      "text/plain": [
       "'es'"
      ]
     },
     "execution_count": 39,
     "metadata": {},
     "output_type": "execute_result"
    }
   ],
   "source": [
    "detect('qiero comerlo')"
   ]
  },
  {
   "cell_type": "code",
   "execution_count": 42,
   "id": "ef26c8c2",
   "metadata": {},
   "outputs": [],
   "source": [
    "# pip install textBlob"
   ]
  },
  {
   "cell_type": "code",
   "execution_count": 45,
   "id": "e88d1c89",
   "metadata": {},
   "outputs": [
    {
     "data": {
      "text/plain": [
       "'de'"
      ]
     },
     "execution_count": 45,
     "metadata": {},
     "output_type": "execute_result"
    }
   ],
   "source": [
    "detect('ich gehe nach haus')"
   ]
  },
  {
   "cell_type": "code",
   "execution_count": 46,
   "id": "669be34e",
   "metadata": {},
   "outputs": [],
   "source": [
    "from textblob import TextBlob"
   ]
  },
  {
   "cell_type": "code",
   "execution_count": 48,
   "id": "f550f810",
   "metadata": {},
   "outputs": [],
   "source": [
    "st=TextBlob('I am a free balck man from Africa')"
   ]
  },
  {
   "cell_type": "code",
   "execution_count": 50,
   "id": "55d5f306",
   "metadata": {},
   "outputs": [
    {
     "data": {
      "text/plain": [
       "TextBlob(\"Je suis un homme de balck libre d'Afrique\")"
      ]
     },
     "execution_count": 50,
     "metadata": {},
     "output_type": "execute_result"
    }
   ],
   "source": [
    "st.translate(from_lang='en',to='fr')"
   ]
  },
  {
   "cell_type": "code",
   "execution_count": 51,
   "id": "2f37e77f",
   "metadata": {},
   "outputs": [
    {
     "data": {
      "text/plain": [
       "TextBlob(\"أنا رجل بكيك حرة من إفريقيا\")"
      ]
     },
     "execution_count": 51,
     "metadata": {},
     "output_type": "execute_result"
    }
   ],
   "source": [
    "st.translate(from_lang='en',to='ar')"
   ]
  },
  {
   "cell_type": "code",
   "execution_count": 52,
   "id": "476dc296",
   "metadata": {},
   "outputs": [
    {
     "data": {
      "text/plain": [
       "TextBlob(\"私はアフリカ出身の無料のバルク人です\")"
      ]
     },
     "execution_count": 52,
     "metadata": {},
     "output_type": "execute_result"
    }
   ],
   "source": [
    "st.translate(from_lang='en',to='ja')"
   ]
  },
  {
   "cell_type": "code",
   "execution_count": 54,
   "id": "1a7d6b29",
   "metadata": {},
   "outputs": [],
   "source": [
    "# pip install gtts"
   ]
  },
  {
   "cell_type": "code",
   "execution_count": 56,
   "id": "52fe1dd2",
   "metadata": {},
   "outputs": [],
   "source": [
    "from gtts import gTTS\n",
    "text=\"私はアフリカの自由な黒人男性です\"\n",
    "output=gTTS(text=text,lang='ja',slow=False)\n",
    "output.save(\"recoding.mp3\")"
   ]
  },
  {
   "cell_type": "code",
   "execution_count": 58,
   "id": "c210092e",
   "metadata": {},
   "outputs": [
    {
     "data": {
      "text/html": [
       "\n",
       "                <audio  controls=\"controls\" >\n",
       "                    <source src=\"data:audio/mpeg;base64,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\" type=\"audio/mpeg\" />\n",
       "                    Your browser does not support the audio element.\n",
       "                </audio>\n",
       "              "
      ],
      "text/plain": [
       "<IPython.lib.display.Audio object>"
      ]
     },
     "execution_count": 58,
     "metadata": {},
     "output_type": "execute_result"
    }
   ],
   "source": [
    "from IPython.display import Audio\n",
    "audio=Audio('recoding.mp3')\n",
    "audio"
   ]
  },
  {
   "cell_type": "code",
   "execution_count": 59,
   "id": "cd02da73",
   "metadata": {},
   "outputs": [],
   "source": [
    "# Graph Theory TF/IDF"
   ]
  },
  {
   "cell_type": "code",
   "execution_count": 61,
   "id": "2e3aa12a",
   "metadata": {},
   "outputs": [],
   "source": [
    "from sklearn.feature_extraction.text import CountVectorizer, TfidfVectorizer"
   ]
  },
  {
   "cell_type": "code",
   "execution_count": 62,
   "id": "458df381",
   "metadata": {},
   "outputs": [],
   "source": [
    "st3=['Call you tonight','call me a cab','please call me...PLEASE']"
   ]
  },
  {
   "cell_type": "code",
   "execution_count": 63,
   "id": "f51ae9d7",
   "metadata": {},
   "outputs": [],
   "source": [
    "vect=CountVectorizer()"
   ]
  },
  {
   "cell_type": "code",
   "execution_count": 64,
   "id": "b2287023",
   "metadata": {},
   "outputs": [],
   "source": [
    "import pandas as pd"
   ]
  },
  {
   "cell_type": "code",
   "execution_count": 65,
   "id": "de6dd5d0",
   "metadata": {},
   "outputs": [],
   "source": [
    "tf=pd.DataFrame(vect.fit_transform(st3).toarray(),columns=vect.get_feature_names())"
   ]
  },
  {
   "cell_type": "code",
   "execution_count": 66,
   "id": "7e48975a",
   "metadata": {},
   "outputs": [
    {
     "data": {
      "text/html": [
       "<div>\n",
       "<style scoped>\n",
       "    .dataframe tbody tr th:only-of-type {\n",
       "        vertical-align: middle;\n",
       "    }\n",
       "\n",
       "    .dataframe tbody tr th {\n",
       "        vertical-align: top;\n",
       "    }\n",
       "\n",
       "    .dataframe thead th {\n",
       "        text-align: right;\n",
       "    }\n",
       "</style>\n",
       "<table border=\"1\" class=\"dataframe\">\n",
       "  <thead>\n",
       "    <tr style=\"text-align: right;\">\n",
       "      <th></th>\n",
       "      <th>cab</th>\n",
       "      <th>call</th>\n",
       "      <th>me</th>\n",
       "      <th>please</th>\n",
       "      <th>tonight</th>\n",
       "      <th>you</th>\n",
       "    </tr>\n",
       "  </thead>\n",
       "  <tbody>\n",
       "    <tr>\n",
       "      <th>0</th>\n",
       "      <td>0</td>\n",
       "      <td>1</td>\n",
       "      <td>0</td>\n",
       "      <td>0</td>\n",
       "      <td>1</td>\n",
       "      <td>1</td>\n",
       "    </tr>\n",
       "    <tr>\n",
       "      <th>1</th>\n",
       "      <td>1</td>\n",
       "      <td>1</td>\n",
       "      <td>1</td>\n",
       "      <td>0</td>\n",
       "      <td>0</td>\n",
       "      <td>0</td>\n",
       "    </tr>\n",
       "    <tr>\n",
       "      <th>2</th>\n",
       "      <td>0</td>\n",
       "      <td>1</td>\n",
       "      <td>1</td>\n",
       "      <td>2</td>\n",
       "      <td>0</td>\n",
       "      <td>0</td>\n",
       "    </tr>\n",
       "  </tbody>\n",
       "</table>\n",
       "</div>"
      ],
      "text/plain": [
       "   cab  call  me  please  tonight  you\n",
       "0    0     1   0       0        1    1\n",
       "1    1     1   1       0        0    0\n",
       "2    0     1   1       2        0    0"
      ]
     },
     "execution_count": 66,
     "metadata": {},
     "output_type": "execute_result"
    }
   ],
   "source": [
    "tf"
   ]
  },
  {
   "cell_type": "code",
   "execution_count": 67,
   "id": "816304b3",
   "metadata": {},
   "outputs": [],
   "source": [
    "df=vect.fit_transform(st3).toarray().sum(axis=0)"
   ]
  },
  {
   "cell_type": "code",
   "execution_count": 68,
   "id": "35f1d02e",
   "metadata": {},
   "outputs": [
    {
     "data": {
      "text/plain": [
       "array([1, 3, 2, 2, 1, 1], dtype=int64)"
      ]
     },
     "execution_count": 68,
     "metadata": {},
     "output_type": "execute_result"
    }
   ],
   "source": [
    "df"
   ]
  },
  {
   "cell_type": "code",
   "execution_count": 69,
   "id": "3fea5045",
   "metadata": {},
   "outputs": [
    {
     "data": {
      "text/html": [
       "<div>\n",
       "<style scoped>\n",
       "    .dataframe tbody tr th:only-of-type {\n",
       "        vertical-align: middle;\n",
       "    }\n",
       "\n",
       "    .dataframe tbody tr th {\n",
       "        vertical-align: top;\n",
       "    }\n",
       "\n",
       "    .dataframe thead th {\n",
       "        text-align: right;\n",
       "    }\n",
       "</style>\n",
       "<table border=\"1\" class=\"dataframe\">\n",
       "  <thead>\n",
       "    <tr style=\"text-align: right;\">\n",
       "      <th></th>\n",
       "      <th>cab</th>\n",
       "      <th>call</th>\n",
       "      <th>me</th>\n",
       "      <th>please</th>\n",
       "      <th>tonight</th>\n",
       "      <th>you</th>\n",
       "    </tr>\n",
       "  </thead>\n",
       "  <tbody>\n",
       "    <tr>\n",
       "      <th>0</th>\n",
       "      <td>0.0</td>\n",
       "      <td>0.333333</td>\n",
       "      <td>0.0</td>\n",
       "      <td>0.0</td>\n",
       "      <td>1.0</td>\n",
       "      <td>1.0</td>\n",
       "    </tr>\n",
       "    <tr>\n",
       "      <th>1</th>\n",
       "      <td>1.0</td>\n",
       "      <td>0.333333</td>\n",
       "      <td>0.5</td>\n",
       "      <td>0.0</td>\n",
       "      <td>0.0</td>\n",
       "      <td>0.0</td>\n",
       "    </tr>\n",
       "    <tr>\n",
       "      <th>2</th>\n",
       "      <td>0.0</td>\n",
       "      <td>0.333333</td>\n",
       "      <td>0.5</td>\n",
       "      <td>1.0</td>\n",
       "      <td>0.0</td>\n",
       "      <td>0.0</td>\n",
       "    </tr>\n",
       "  </tbody>\n",
       "</table>\n",
       "</div>"
      ],
      "text/plain": [
       "   cab      call   me  please  tonight  you\n",
       "0  0.0  0.333333  0.0     0.0      1.0  1.0\n",
       "1  1.0  0.333333  0.5     0.0      0.0  0.0\n",
       "2  0.0  0.333333  0.5     1.0      0.0  0.0"
      ]
     },
     "execution_count": 69,
     "metadata": {},
     "output_type": "execute_result"
    }
   ],
   "source": [
    "tf/df"
   ]
  },
  {
   "cell_type": "code",
   "execution_count": 98,
   "id": "c096ba9a",
   "metadata": {},
   "outputs": [],
   "source": [
    "import pandas as pd"
   ]
  },
  {
   "cell_type": "code",
   "execution_count": 99,
   "id": "e903c094",
   "metadata": {},
   "outputs": [
    {
     "data": {
      "text/html": [
       "<div>\n",
       "<style scoped>\n",
       "    .dataframe tbody tr th:only-of-type {\n",
       "        vertical-align: middle;\n",
       "    }\n",
       "\n",
       "    .dataframe tbody tr th {\n",
       "        vertical-align: top;\n",
       "    }\n",
       "\n",
       "    .dataframe thead th {\n",
       "        text-align: right;\n",
       "    }\n",
       "</style>\n",
       "<table border=\"1\" class=\"dataframe\">\n",
       "  <thead>\n",
       "    <tr style=\"text-align: right;\">\n",
       "      <th></th>\n",
       "      <th>business_id</th>\n",
       "      <th>date</th>\n",
       "      <th>review_id</th>\n",
       "      <th>stars</th>\n",
       "      <th>text</th>\n",
       "      <th>type</th>\n",
       "      <th>user_id</th>\n",
       "      <th>cool</th>\n",
       "      <th>useful</th>\n",
       "      <th>funny</th>\n",
       "    </tr>\n",
       "  </thead>\n",
       "  <tbody>\n",
       "    <tr>\n",
       "      <th>0</th>\n",
       "      <td>9yKzy9PApeiPPOUJEtnvkg</td>\n",
       "      <td>2011-01-26</td>\n",
       "      <td>fWKvX83p0-ka4JS3dc6E5A</td>\n",
       "      <td>5</td>\n",
       "      <td>My wife took me here on my birthday for breakf...</td>\n",
       "      <td>review</td>\n",
       "      <td>rLtl8ZkDX5vH5nAx9C3q5Q</td>\n",
       "      <td>2</td>\n",
       "      <td>5</td>\n",
       "      <td>0</td>\n",
       "    </tr>\n",
       "    <tr>\n",
       "      <th>1</th>\n",
       "      <td>ZRJwVLyzEJq1VAihDhYiow</td>\n",
       "      <td>2011-07-27</td>\n",
       "      <td>IjZ33sJrzXqU-0X6U8NwyA</td>\n",
       "      <td>5</td>\n",
       "      <td>I have no idea why some people give bad review...</td>\n",
       "      <td>review</td>\n",
       "      <td>0a2KyEL0d3Yb1V6aivbIuQ</td>\n",
       "      <td>0</td>\n",
       "      <td>0</td>\n",
       "      <td>0</td>\n",
       "    </tr>\n",
       "    <tr>\n",
       "      <th>2</th>\n",
       "      <td>6oRAC4uyJCsJl1X0WZpVSA</td>\n",
       "      <td>2012-06-14</td>\n",
       "      <td>IESLBzqUCLdSzSqm0eCSxQ</td>\n",
       "      <td>4</td>\n",
       "      <td>love the gyro plate. Rice is so good and I als...</td>\n",
       "      <td>review</td>\n",
       "      <td>0hT2KtfLiobPvh6cDC8JQg</td>\n",
       "      <td>0</td>\n",
       "      <td>1</td>\n",
       "      <td>0</td>\n",
       "    </tr>\n",
       "    <tr>\n",
       "      <th>3</th>\n",
       "      <td>_1QQZuf4zZOyFCvXc0o6Vg</td>\n",
       "      <td>2010-05-27</td>\n",
       "      <td>G-WvGaISbqqaMHlNnByodA</td>\n",
       "      <td>5</td>\n",
       "      <td>Rosie, Dakota, and I LOVE Chaparral Dog Park!!...</td>\n",
       "      <td>review</td>\n",
       "      <td>uZetl9T0NcROGOyFfughhg</td>\n",
       "      <td>1</td>\n",
       "      <td>2</td>\n",
       "      <td>0</td>\n",
       "    </tr>\n",
       "    <tr>\n",
       "      <th>4</th>\n",
       "      <td>6ozycU1RpktNG2-1BroVtw</td>\n",
       "      <td>2012-01-05</td>\n",
       "      <td>1uJFq2r5QfJG_6ExMRCaGw</td>\n",
       "      <td>5</td>\n",
       "      <td>General Manager Scott Petello is a good egg!!!...</td>\n",
       "      <td>review</td>\n",
       "      <td>vYmM4KTsC8ZfQBg-j5MWkw</td>\n",
       "      <td>0</td>\n",
       "      <td>0</td>\n",
       "      <td>0</td>\n",
       "    </tr>\n",
       "    <tr>\n",
       "      <th>...</th>\n",
       "      <td>...</td>\n",
       "      <td>...</td>\n",
       "      <td>...</td>\n",
       "      <td>...</td>\n",
       "      <td>...</td>\n",
       "      <td>...</td>\n",
       "      <td>...</td>\n",
       "      <td>...</td>\n",
       "      <td>...</td>\n",
       "      <td>...</td>\n",
       "    </tr>\n",
       "    <tr>\n",
       "      <th>9995</th>\n",
       "      <td>VY_tvNUCCXGXQeSvJl757Q</td>\n",
       "      <td>2012-07-28</td>\n",
       "      <td>Ubyfp2RSDYW0g7Mbr8N3iA</td>\n",
       "      <td>3</td>\n",
       "      <td>First visit...Had lunch here today - used my G...</td>\n",
       "      <td>review</td>\n",
       "      <td>_eqQoPtQ3e3UxLE4faT6ow</td>\n",
       "      <td>1</td>\n",
       "      <td>2</td>\n",
       "      <td>0</td>\n",
       "    </tr>\n",
       "    <tr>\n",
       "      <th>9996</th>\n",
       "      <td>EKzMHI1tip8rC1-ZAy64yg</td>\n",
       "      <td>2012-01-18</td>\n",
       "      <td>2XyIOQKbVFb6uXQdJ0RzlQ</td>\n",
       "      <td>4</td>\n",
       "      <td>Should be called house of deliciousness!\\n\\nI ...</td>\n",
       "      <td>review</td>\n",
       "      <td>ROru4uk5SaYc3rg8IU7SQw</td>\n",
       "      <td>0</td>\n",
       "      <td>0</td>\n",
       "      <td>0</td>\n",
       "    </tr>\n",
       "    <tr>\n",
       "      <th>9997</th>\n",
       "      <td>53YGfwmbW73JhFiemNeyzQ</td>\n",
       "      <td>2010-11-16</td>\n",
       "      <td>jyznYkIbpqVmlsZxSDSypA</td>\n",
       "      <td>4</td>\n",
       "      <td>I recently visited Olive and Ivy for business ...</td>\n",
       "      <td>review</td>\n",
       "      <td>gGbN1aKQHMgfQZkqlsuwzg</td>\n",
       "      <td>0</td>\n",
       "      <td>0</td>\n",
       "      <td>0</td>\n",
       "    </tr>\n",
       "    <tr>\n",
       "      <th>9998</th>\n",
       "      <td>9SKdOoDHcFoxK5ZtsgHJoA</td>\n",
       "      <td>2012-12-02</td>\n",
       "      <td>5UKq9WQE1qQbJ0DJbc-B6Q</td>\n",
       "      <td>2</td>\n",
       "      <td>My nephew just moved to Scottsdale recently so...</td>\n",
       "      <td>review</td>\n",
       "      <td>0lyVoNazXa20WzUyZPLaQQ</td>\n",
       "      <td>0</td>\n",
       "      <td>0</td>\n",
       "      <td>0</td>\n",
       "    </tr>\n",
       "    <tr>\n",
       "      <th>9999</th>\n",
       "      <td>pF7uRzygyZsltbmVpjIyvw</td>\n",
       "      <td>2010-10-16</td>\n",
       "      <td>vWSmOhg2ID1MNZHaWapGbA</td>\n",
       "      <td>5</td>\n",
       "      <td>4-5 locations.. all 4.5 star average.. I think...</td>\n",
       "      <td>review</td>\n",
       "      <td>KSBFytcdjPKZgXKQnYQdkA</td>\n",
       "      <td>0</td>\n",
       "      <td>0</td>\n",
       "      <td>0</td>\n",
       "    </tr>\n",
       "  </tbody>\n",
       "</table>\n",
       "<p>10000 rows × 10 columns</p>\n",
       "</div>"
      ],
      "text/plain": [
       "                 business_id        date               review_id  stars  \\\n",
       "0     9yKzy9PApeiPPOUJEtnvkg  2011-01-26  fWKvX83p0-ka4JS3dc6E5A      5   \n",
       "1     ZRJwVLyzEJq1VAihDhYiow  2011-07-27  IjZ33sJrzXqU-0X6U8NwyA      5   \n",
       "2     6oRAC4uyJCsJl1X0WZpVSA  2012-06-14  IESLBzqUCLdSzSqm0eCSxQ      4   \n",
       "3     _1QQZuf4zZOyFCvXc0o6Vg  2010-05-27  G-WvGaISbqqaMHlNnByodA      5   \n",
       "4     6ozycU1RpktNG2-1BroVtw  2012-01-05  1uJFq2r5QfJG_6ExMRCaGw      5   \n",
       "...                      ...         ...                     ...    ...   \n",
       "9995  VY_tvNUCCXGXQeSvJl757Q  2012-07-28  Ubyfp2RSDYW0g7Mbr8N3iA      3   \n",
       "9996  EKzMHI1tip8rC1-ZAy64yg  2012-01-18  2XyIOQKbVFb6uXQdJ0RzlQ      4   \n",
       "9997  53YGfwmbW73JhFiemNeyzQ  2010-11-16  jyznYkIbpqVmlsZxSDSypA      4   \n",
       "9998  9SKdOoDHcFoxK5ZtsgHJoA  2012-12-02  5UKq9WQE1qQbJ0DJbc-B6Q      2   \n",
       "9999  pF7uRzygyZsltbmVpjIyvw  2010-10-16  vWSmOhg2ID1MNZHaWapGbA      5   \n",
       "\n",
       "                                                   text    type  \\\n",
       "0     My wife took me here on my birthday for breakf...  review   \n",
       "1     I have no idea why some people give bad review...  review   \n",
       "2     love the gyro plate. Rice is so good and I als...  review   \n",
       "3     Rosie, Dakota, and I LOVE Chaparral Dog Park!!...  review   \n",
       "4     General Manager Scott Petello is a good egg!!!...  review   \n",
       "...                                                 ...     ...   \n",
       "9995  First visit...Had lunch here today - used my G...  review   \n",
       "9996  Should be called house of deliciousness!\\n\\nI ...  review   \n",
       "9997  I recently visited Olive and Ivy for business ...  review   \n",
       "9998  My nephew just moved to Scottsdale recently so...  review   \n",
       "9999  4-5 locations.. all 4.5 star average.. I think...  review   \n",
       "\n",
       "                     user_id  cool  useful  funny  \n",
       "0     rLtl8ZkDX5vH5nAx9C3q5Q     2       5      0  \n",
       "1     0a2KyEL0d3Yb1V6aivbIuQ     0       0      0  \n",
       "2     0hT2KtfLiobPvh6cDC8JQg     0       1      0  \n",
       "3     uZetl9T0NcROGOyFfughhg     1       2      0  \n",
       "4     vYmM4KTsC8ZfQBg-j5MWkw     0       0      0  \n",
       "...                      ...   ...     ...    ...  \n",
       "9995  _eqQoPtQ3e3UxLE4faT6ow     1       2      0  \n",
       "9996  ROru4uk5SaYc3rg8IU7SQw     0       0      0  \n",
       "9997  gGbN1aKQHMgfQZkqlsuwzg     0       0      0  \n",
       "9998  0lyVoNazXa20WzUyZPLaQQ     0       0      0  \n",
       "9999  KSBFytcdjPKZgXKQnYQdkA     0       0      0  \n",
       "\n",
       "[10000 rows x 10 columns]"
      ]
     },
     "execution_count": 99,
     "metadata": {},
     "output_type": "execute_result"
    }
   ],
   "source": [
    "df=pd.read_csv('yelp.csv')\n",
    "df"
   ]
  },
  {
   "cell_type": "markdown",
   "id": "a1d030ac",
   "metadata": {},
   "source": [
    "# NLP\n",
    "1-Lowercase\n",
    "2- Remove , . !punctuation\n",
    "3-remove number\n",
    "4-remoe enter/ return\\n\n",
    "5-remobe stopwords\n",
    "6-remobe suffixes and prefixes\n",
    "7-find roots"
   ]
  },
  {
   "cell_type": "code",
   "execution_count": 100,
   "id": "80daade0",
   "metadata": {},
   "outputs": [],
   "source": [
    "import seaborn as sns"
   ]
  },
  {
   "cell_type": "code",
   "execution_count": 101,
   "id": "ba3982e1",
   "metadata": {},
   "outputs": [
    {
     "data": {
      "text/plain": [
       "<AxesSubplot:xlabel='stars', ylabel='count'>"
      ]
     },
     "execution_count": 101,
     "metadata": {},
     "output_type": "execute_result"
    },
    {
     "data": {
      "image/png": "[encoded data removed]",
      "text/plain": [
       "<Figure size 640x480 with 1 Axes>"
      ]
     },
     "metadata": {},
     "output_type": "display_data"
    }
   ],
   "source": [
    "sns.countplot(df['stars'])"
   ]
  },
  {
   "cell_type": "code",
   "execution_count": 102,
   "id": "e5161e68",
   "metadata": {},
   "outputs": [],
   "source": [
    "df['text']=df['text'].str.lower()"
   ]
  },
  {
   "cell_type": "code",
   "execution_count": 103,
   "id": "c68c76c5",
   "metadata": {},
   "outputs": [
    {
     "data": {
      "text/html": [
       "<div>\n",
       "<style scoped>\n",
       "    .dataframe tbody tr th:only-of-type {\n",
       "        vertical-align: middle;\n",
       "    }\n",
       "\n",
       "    .dataframe tbody tr th {\n",
       "        vertical-align: top;\n",
       "    }\n",
       "\n",
       "    .dataframe thead th {\n",
       "        text-align: right;\n",
       "    }\n",
       "</style>\n",
       "<table border=\"1\" class=\"dataframe\">\n",
       "  <thead>\n",
       "    <tr style=\"text-align: right;\">\n",
       "      <th></th>\n",
       "      <th>business_id</th>\n",
       "      <th>date</th>\n",
       "      <th>review_id</th>\n",
       "      <th>stars</th>\n",
       "      <th>text</th>\n",
       "      <th>type</th>\n",
       "      <th>user_id</th>\n",
       "      <th>cool</th>\n",
       "      <th>useful</th>\n",
       "      <th>funny</th>\n",
       "    </tr>\n",
       "  </thead>\n",
       "  <tbody>\n",
       "    <tr>\n",
       "      <th>0</th>\n",
       "      <td>9yKzy9PApeiPPOUJEtnvkg</td>\n",
       "      <td>2011-01-26</td>\n",
       "      <td>fWKvX83p0-ka4JS3dc6E5A</td>\n",
       "      <td>5</td>\n",
       "      <td>my wife took me here on my birthday for breakf...</td>\n",
       "      <td>review</td>\n",
       "      <td>rLtl8ZkDX5vH5nAx9C3q5Q</td>\n",
       "      <td>2</td>\n",
       "      <td>5</td>\n",
       "      <td>0</td>\n",
       "    </tr>\n",
       "    <tr>\n",
       "      <th>1</th>\n",
       "      <td>ZRJwVLyzEJq1VAihDhYiow</td>\n",
       "      <td>2011-07-27</td>\n",
       "      <td>IjZ33sJrzXqU-0X6U8NwyA</td>\n",
       "      <td>5</td>\n",
       "      <td>i have no idea why some people give bad review...</td>\n",
       "      <td>review</td>\n",
       "      <td>0a2KyEL0d3Yb1V6aivbIuQ</td>\n",
       "      <td>0</td>\n",
       "      <td>0</td>\n",
       "      <td>0</td>\n",
       "    </tr>\n",
       "    <tr>\n",
       "      <th>2</th>\n",
       "      <td>6oRAC4uyJCsJl1X0WZpVSA</td>\n",
       "      <td>2012-06-14</td>\n",
       "      <td>IESLBzqUCLdSzSqm0eCSxQ</td>\n",
       "      <td>4</td>\n",
       "      <td>love the gyro plate. rice is so good and i als...</td>\n",
       "      <td>review</td>\n",
       "      <td>0hT2KtfLiobPvh6cDC8JQg</td>\n",
       "      <td>0</td>\n",
       "      <td>1</td>\n",
       "      <td>0</td>\n",
       "    </tr>\n",
       "    <tr>\n",
       "      <th>3</th>\n",
       "      <td>_1QQZuf4zZOyFCvXc0o6Vg</td>\n",
       "      <td>2010-05-27</td>\n",
       "      <td>G-WvGaISbqqaMHlNnByodA</td>\n",
       "      <td>5</td>\n",
       "      <td>rosie, dakota, and i love chaparral dog park!!...</td>\n",
       "      <td>review</td>\n",
       "      <td>uZetl9T0NcROGOyFfughhg</td>\n",
       "      <td>1</td>\n",
       "      <td>2</td>\n",
       "      <td>0</td>\n",
       "    </tr>\n",
       "    <tr>\n",
       "      <th>4</th>\n",
       "      <td>6ozycU1RpktNG2-1BroVtw</td>\n",
       "      <td>2012-01-05</td>\n",
       "      <td>1uJFq2r5QfJG_6ExMRCaGw</td>\n",
       "      <td>5</td>\n",
       "      <td>general manager scott petello is a good egg!!!...</td>\n",
       "      <td>review</td>\n",
       "      <td>vYmM4KTsC8ZfQBg-j5MWkw</td>\n",
       "      <td>0</td>\n",
       "      <td>0</td>\n",
       "      <td>0</td>\n",
       "    </tr>\n",
       "  </tbody>\n",
       "</table>\n",
       "</div>"
      ],
      "text/plain": [
       "              business_id        date               review_id  stars  \\\n",
       "0  9yKzy9PApeiPPOUJEtnvkg  2011-01-26  fWKvX83p0-ka4JS3dc6E5A      5   \n",
       "1  ZRJwVLyzEJq1VAihDhYiow  2011-07-27  IjZ33sJrzXqU-0X6U8NwyA      5   \n",
       "2  6oRAC4uyJCsJl1X0WZpVSA  2012-06-14  IESLBzqUCLdSzSqm0eCSxQ      4   \n",
       "3  _1QQZuf4zZOyFCvXc0o6Vg  2010-05-27  G-WvGaISbqqaMHlNnByodA      5   \n",
       "4  6ozycU1RpktNG2-1BroVtw  2012-01-05  1uJFq2r5QfJG_6ExMRCaGw      5   \n",
       "\n",
       "                                                text    type  \\\n",
       "0  my wife took me here on my birthday for breakf...  review   \n",
       "1  i have no idea why some people give bad review...  review   \n",
       "2  love the gyro plate. rice is so good and i als...  review   \n",
       "3  rosie, dakota, and i love chaparral dog park!!...  review   \n",
       "4  general manager scott petello is a good egg!!!...  review   \n",
       "\n",
       "                  user_id  cool  useful  funny  \n",
       "0  rLtl8ZkDX5vH5nAx9C3q5Q     2       5      0  \n",
       "1  0a2KyEL0d3Yb1V6aivbIuQ     0       0      0  \n",
       "2  0hT2KtfLiobPvh6cDC8JQg     0       1      0  \n",
       "3  uZetl9T0NcROGOyFfughhg     1       2      0  \n",
       "4  vYmM4KTsC8ZfQBg-j5MWkw     0       0      0  "
      ]
     },
     "execution_count": 103,
     "metadata": {},
     "output_type": "execute_result"
    }
   ],
   "source": [
    "df.head()"
   ]
  },
  {
   "cell_type": "code",
   "execution_count": 104,
   "id": "3b37450e",
   "metadata": {},
   "outputs": [],
   "source": [
    "df['text']=df['text'].str.replace('[^\\w\\s]','')"
   ]
  },
  {
   "cell_type": "code",
   "execution_count": 105,
   "id": "2564758b",
   "metadata": {},
   "outputs": [],
   "source": [
    "df['text']=df['text'].str.replace('\\d','')"
   ]
  },
  {
   "cell_type": "code",
   "execution_count": 106,
   "id": "d0e479da",
   "metadata": {},
   "outputs": [],
   "source": [
    "df['text']=df['text'].str.replace('\\r','')"
   ]
  },
  {
   "cell_type": "code",
   "execution_count": 107,
   "id": "4fa37793",
   "metadata": {},
   "outputs": [],
   "source": [
    "df['text']=df['text'].str.replace('\\n','')"
   ]
  },
  {
   "cell_type": "code",
   "execution_count": 108,
   "id": "bb8bb01e",
   "metadata": {},
   "outputs": [
    {
     "data": {
      "text/plain": [
       "'my wife took me here on my birthday for breakfast and it was excellent  the weather was perfect which made sitting outside overlooking their grounds an absolute pleasure  our waitress was excellent and our food arrived quickly on the semibusy saturday morning  it looked like the place fills up pretty quickly so the earlier you get here the betterdo yourself a favor and get their bloody mary  it was phenomenal and simply the best ive ever had  im pretty sure they only use ingredients from their garden and blend them fresh when you order it  it was amazingwhile everything on the menu looks excellent i had the white truffle scrambled eggs vegetable skillet and it was tasty and delicious  it came with  pieces of their griddled bread with was amazing and it absolutely made the meal complete  it was the best toast ive ever hadanyway i cant wait to go back'"
      ]
     },
     "execution_count": 108,
     "metadata": {},
     "output_type": "execute_result"
    }
   ],
   "source": [
    "df.text[0]"
   ]
  },
  {
   "cell_type": "code",
   "execution_count": 111,
   "id": "2df93453",
   "metadata": {},
   "outputs": [],
   "source": [
    "yelp=df[(df.stars==1)|(df.stars==5)]"
   ]
  },
  {
   "cell_type": "code",
   "execution_count": 112,
   "id": "5b93f713",
   "metadata": {},
   "outputs": [
    {
     "data": {
      "text/html": [
       "<div>\n",
       "<style scoped>\n",
       "    .dataframe tbody tr th:only-of-type {\n",
       "        vertical-align: middle;\n",
       "    }\n",
       "\n",
       "    .dataframe tbody tr th {\n",
       "        vertical-align: top;\n",
       "    }\n",
       "\n",
       "    .dataframe thead th {\n",
       "        text-align: right;\n",
       "    }\n",
       "</style>\n",
       "<table border=\"1\" class=\"dataframe\">\n",
       "  <thead>\n",
       "    <tr style=\"text-align: right;\">\n",
       "      <th></th>\n",
       "      <th>business_id</th>\n",
       "      <th>date</th>\n",
       "      <th>review_id</th>\n",
       "      <th>stars</th>\n",
       "      <th>text</th>\n",
       "      <th>type</th>\n",
       "      <th>user_id</th>\n",
       "      <th>cool</th>\n",
       "      <th>useful</th>\n",
       "      <th>funny</th>\n",
       "    </tr>\n",
       "  </thead>\n",
       "  <tbody>\n",
       "    <tr>\n",
       "      <th>0</th>\n",
       "      <td>9yKzy9PApeiPPOUJEtnvkg</td>\n",
       "      <td>2011-01-26</td>\n",
       "      <td>fWKvX83p0-ka4JS3dc6E5A</td>\n",
       "      <td>5</td>\n",
       "      <td>my wife took me here on my birthday for breakf...</td>\n",
       "      <td>review</td>\n",
       "      <td>rLtl8ZkDX5vH5nAx9C3q5Q</td>\n",
       "      <td>2</td>\n",
       "      <td>5</td>\n",
       "      <td>0</td>\n",
       "    </tr>\n",
       "    <tr>\n",
       "      <th>1</th>\n",
       "      <td>ZRJwVLyzEJq1VAihDhYiow</td>\n",
       "      <td>2011-07-27</td>\n",
       "      <td>IjZ33sJrzXqU-0X6U8NwyA</td>\n",
       "      <td>5</td>\n",
       "      <td>i have no idea why some people give bad review...</td>\n",
       "      <td>review</td>\n",
       "      <td>0a2KyEL0d3Yb1V6aivbIuQ</td>\n",
       "      <td>0</td>\n",
       "      <td>0</td>\n",
       "      <td>0</td>\n",
       "    </tr>\n",
       "    <tr>\n",
       "      <th>3</th>\n",
       "      <td>_1QQZuf4zZOyFCvXc0o6Vg</td>\n",
       "      <td>2010-05-27</td>\n",
       "      <td>G-WvGaISbqqaMHlNnByodA</td>\n",
       "      <td>5</td>\n",
       "      <td>rosie dakota and i love chaparral dog park its...</td>\n",
       "      <td>review</td>\n",
       "      <td>uZetl9T0NcROGOyFfughhg</td>\n",
       "      <td>1</td>\n",
       "      <td>2</td>\n",
       "      <td>0</td>\n",
       "    </tr>\n",
       "    <tr>\n",
       "      <th>4</th>\n",
       "      <td>6ozycU1RpktNG2-1BroVtw</td>\n",
       "      <td>2012-01-05</td>\n",
       "      <td>1uJFq2r5QfJG_6ExMRCaGw</td>\n",
       "      <td>5</td>\n",
       "      <td>general manager scott petello is a good egg no...</td>\n",
       "      <td>review</td>\n",
       "      <td>vYmM4KTsC8ZfQBg-j5MWkw</td>\n",
       "      <td>0</td>\n",
       "      <td>0</td>\n",
       "      <td>0</td>\n",
       "    </tr>\n",
       "    <tr>\n",
       "      <th>6</th>\n",
       "      <td>zp713qNhx8d9KCJJnrw1xA</td>\n",
       "      <td>2010-02-12</td>\n",
       "      <td>riFQ3vxNpP4rWLk_CSri2A</td>\n",
       "      <td>5</td>\n",
       "      <td>drop what youre doing and drive here after i a...</td>\n",
       "      <td>review</td>\n",
       "      <td>wFweIWhv2fREZV_dYkz_1g</td>\n",
       "      <td>7</td>\n",
       "      <td>7</td>\n",
       "      <td>4</td>\n",
       "    </tr>\n",
       "    <tr>\n",
       "      <th>...</th>\n",
       "      <td>...</td>\n",
       "      <td>...</td>\n",
       "      <td>...</td>\n",
       "      <td>...</td>\n",
       "      <td>...</td>\n",
       "      <td>...</td>\n",
       "      <td>...</td>\n",
       "      <td>...</td>\n",
       "      <td>...</td>\n",
       "      <td>...</td>\n",
       "    </tr>\n",
       "    <tr>\n",
       "      <th>9990</th>\n",
       "      <td>R8VwdLyvsp9iybNqRvm94g</td>\n",
       "      <td>2011-10-03</td>\n",
       "      <td>pcEeHdAJPoFNF23es0kKWg</td>\n",
       "      <td>5</td>\n",
       "      <td>yes i do rock the hipster joints  i dig this p...</td>\n",
       "      <td>review</td>\n",
       "      <td>b92Y3tyWTQQZ5FLifex62Q</td>\n",
       "      <td>1</td>\n",
       "      <td>1</td>\n",
       "      <td>1</td>\n",
       "    </tr>\n",
       "    <tr>\n",
       "      <th>9991</th>\n",
       "      <td>WJ5mq4EiWYAA4Vif0xDfdg</td>\n",
       "      <td>2011-12-05</td>\n",
       "      <td>EuHX-39FR7tyyG1ElvN1Jw</td>\n",
       "      <td>5</td>\n",
       "      <td>only  stars a few notes the folks that rated t...</td>\n",
       "      <td>review</td>\n",
       "      <td>hTau-iNZFwoNsPCaiIUTEA</td>\n",
       "      <td>1</td>\n",
       "      <td>1</td>\n",
       "      <td>0</td>\n",
       "    </tr>\n",
       "    <tr>\n",
       "      <th>9992</th>\n",
       "      <td>f96lWMIAUhYIYy9gOktivQ</td>\n",
       "      <td>2009-03-10</td>\n",
       "      <td>YF17z7HWlMj6aezZc-pVEw</td>\n",
       "      <td>5</td>\n",
       "      <td>im not normally one to jump at reviewing a cha...</td>\n",
       "      <td>review</td>\n",
       "      <td>W_QXYA7A0IhMrvbckz7eVg</td>\n",
       "      <td>2</td>\n",
       "      <td>3</td>\n",
       "      <td>2</td>\n",
       "    </tr>\n",
       "    <tr>\n",
       "      <th>9994</th>\n",
       "      <td>L3BSpFvxcNf3T_teitgt6A</td>\n",
       "      <td>2012-03-19</td>\n",
       "      <td>0nxb1gIGFgk3WbC5zwhKZg</td>\n",
       "      <td>5</td>\n",
       "      <td>lets seewhat is there not to like about surpri...</td>\n",
       "      <td>review</td>\n",
       "      <td>OzOZv-Knlw3oz9K5Kh5S6A</td>\n",
       "      <td>1</td>\n",
       "      <td>2</td>\n",
       "      <td>1</td>\n",
       "    </tr>\n",
       "    <tr>\n",
       "      <th>9999</th>\n",
       "      <td>pF7uRzygyZsltbmVpjIyvw</td>\n",
       "      <td>2010-10-16</td>\n",
       "      <td>vWSmOhg2ID1MNZHaWapGbA</td>\n",
       "      <td>5</td>\n",
       "      <td>locations all  star average i think arizona r...</td>\n",
       "      <td>review</td>\n",
       "      <td>KSBFytcdjPKZgXKQnYQdkA</td>\n",
       "      <td>0</td>\n",
       "      <td>0</td>\n",
       "      <td>0</td>\n",
       "    </tr>\n",
       "  </tbody>\n",
       "</table>\n",
       "<p>4086 rows × 10 columns</p>\n",
       "</div>"
      ],
      "text/plain": [
       "                 business_id        date               review_id  stars  \\\n",
       "0     9yKzy9PApeiPPOUJEtnvkg  2011-01-26  fWKvX83p0-ka4JS3dc6E5A      5   \n",
       "1     ZRJwVLyzEJq1VAihDhYiow  2011-07-27  IjZ33sJrzXqU-0X6U8NwyA      5   \n",
       "3     _1QQZuf4zZOyFCvXc0o6Vg  2010-05-27  G-WvGaISbqqaMHlNnByodA      5   \n",
       "4     6ozycU1RpktNG2-1BroVtw  2012-01-05  1uJFq2r5QfJG_6ExMRCaGw      5   \n",
       "6     zp713qNhx8d9KCJJnrw1xA  2010-02-12  riFQ3vxNpP4rWLk_CSri2A      5   \n",
       "...                      ...         ...                     ...    ...   \n",
       "9990  R8VwdLyvsp9iybNqRvm94g  2011-10-03  pcEeHdAJPoFNF23es0kKWg      5   \n",
       "9991  WJ5mq4EiWYAA4Vif0xDfdg  2011-12-05  EuHX-39FR7tyyG1ElvN1Jw      5   \n",
       "9992  f96lWMIAUhYIYy9gOktivQ  2009-03-10  YF17z7HWlMj6aezZc-pVEw      5   \n",
       "9994  L3BSpFvxcNf3T_teitgt6A  2012-03-19  0nxb1gIGFgk3WbC5zwhKZg      5   \n",
       "9999  pF7uRzygyZsltbmVpjIyvw  2010-10-16  vWSmOhg2ID1MNZHaWapGbA      5   \n",
       "\n",
       "                                                   text    type  \\\n",
       "0     my wife took me here on my birthday for breakf...  review   \n",
       "1     i have no idea why some people give bad review...  review   \n",
       "3     rosie dakota and i love chaparral dog park its...  review   \n",
       "4     general manager scott petello is a good egg no...  review   \n",
       "6     drop what youre doing and drive here after i a...  review   \n",
       "...                                                 ...     ...   \n",
       "9990  yes i do rock the hipster joints  i dig this p...  review   \n",
       "9991  only  stars a few notes the folks that rated t...  review   \n",
       "9992  im not normally one to jump at reviewing a cha...  review   \n",
       "9994  lets seewhat is there not to like about surpri...  review   \n",
       "9999   locations all  star average i think arizona r...  review   \n",
       "\n",
       "                     user_id  cool  useful  funny  \n",
       "0     rLtl8ZkDX5vH5nAx9C3q5Q     2       5      0  \n",
       "1     0a2KyEL0d3Yb1V6aivbIuQ     0       0      0  \n",
       "3     uZetl9T0NcROGOyFfughhg     1       2      0  \n",
       "4     vYmM4KTsC8ZfQBg-j5MWkw     0       0      0  \n",
       "6     wFweIWhv2fREZV_dYkz_1g     7       7      4  \n",
       "...                      ...   ...     ...    ...  \n",
       "9990  b92Y3tyWTQQZ5FLifex62Q     1       1      1  \n",
       "9991  hTau-iNZFwoNsPCaiIUTEA     1       1      0  \n",
       "9992  W_QXYA7A0IhMrvbckz7eVg     2       3      2  \n",
       "9994  OzOZv-Knlw3oz9K5Kh5S6A     1       2      1  \n",
       "9999  KSBFytcdjPKZgXKQnYQdkA     0       0      0  \n",
       "\n",
       "[4086 rows x 10 columns]"
      ]
     },
     "execution_count": 112,
     "metadata": {},
     "output_type": "execute_result"
    }
   ],
   "source": [
    "yelp"
   ]
  },
  {
   "cell_type": "code",
   "execution_count": 113,
   "id": "b90443c7",
   "metadata": {},
   "outputs": [],
   "source": [
    "yelp.reset_index(drop=True, inplace=True)"
   ]
  },
  {
   "cell_type": "code",
   "execution_count": 114,
   "id": "cd709c18",
   "metadata": {},
   "outputs": [
    {
     "data": {
      "text/html": [
       "<div>\n",
       "<style scoped>\n",
       "    .dataframe tbody tr th:only-of-type {\n",
       "        vertical-align: middle;\n",
       "    }\n",
       "\n",
       "    .dataframe tbody tr th {\n",
       "        vertical-align: top;\n",
       "    }\n",
       "\n",
       "    .dataframe thead th {\n",
       "        text-align: right;\n",
       "    }\n",
       "</style>\n",
       "<table border=\"1\" class=\"dataframe\">\n",
       "  <thead>\n",
       "    <tr style=\"text-align: right;\">\n",
       "      <th></th>\n",
       "      <th>business_id</th>\n",
       "      <th>date</th>\n",
       "      <th>review_id</th>\n",
       "      <th>stars</th>\n",
       "      <th>text</th>\n",
       "      <th>type</th>\n",
       "      <th>user_id</th>\n",
       "      <th>cool</th>\n",
       "      <th>useful</th>\n",
       "      <th>funny</th>\n",
       "    </tr>\n",
       "  </thead>\n",
       "  <tbody>\n",
       "    <tr>\n",
       "      <th>0</th>\n",
       "      <td>9yKzy9PApeiPPOUJEtnvkg</td>\n",
       "      <td>2011-01-26</td>\n",
       "      <td>fWKvX83p0-ka4JS3dc6E5A</td>\n",
       "      <td>5</td>\n",
       "      <td>my wife took me here on my birthday for breakf...</td>\n",
       "      <td>review</td>\n",
       "      <td>rLtl8ZkDX5vH5nAx9C3q5Q</td>\n",
       "      <td>2</td>\n",
       "      <td>5</td>\n",
       "      <td>0</td>\n",
       "    </tr>\n",
       "    <tr>\n",
       "      <th>1</th>\n",
       "      <td>ZRJwVLyzEJq1VAihDhYiow</td>\n",
       "      <td>2011-07-27</td>\n",
       "      <td>IjZ33sJrzXqU-0X6U8NwyA</td>\n",
       "      <td>5</td>\n",
       "      <td>i have no idea why some people give bad review...</td>\n",
       "      <td>review</td>\n",
       "      <td>0a2KyEL0d3Yb1V6aivbIuQ</td>\n",
       "      <td>0</td>\n",
       "      <td>0</td>\n",
       "      <td>0</td>\n",
       "    </tr>\n",
       "    <tr>\n",
       "      <th>2</th>\n",
       "      <td>_1QQZuf4zZOyFCvXc0o6Vg</td>\n",
       "      <td>2010-05-27</td>\n",
       "      <td>G-WvGaISbqqaMHlNnByodA</td>\n",
       "      <td>5</td>\n",
       "      <td>rosie dakota and i love chaparral dog park its...</td>\n",
       "      <td>review</td>\n",
       "      <td>uZetl9T0NcROGOyFfughhg</td>\n",
       "      <td>1</td>\n",
       "      <td>2</td>\n",
       "      <td>0</td>\n",
       "    </tr>\n",
       "    <tr>\n",
       "      <th>3</th>\n",
       "      <td>6ozycU1RpktNG2-1BroVtw</td>\n",
       "      <td>2012-01-05</td>\n",
       "      <td>1uJFq2r5QfJG_6ExMRCaGw</td>\n",
       "      <td>5</td>\n",
       "      <td>general manager scott petello is a good egg no...</td>\n",
       "      <td>review</td>\n",
       "      <td>vYmM4KTsC8ZfQBg-j5MWkw</td>\n",
       "      <td>0</td>\n",
       "      <td>0</td>\n",
       "      <td>0</td>\n",
       "    </tr>\n",
       "    <tr>\n",
       "      <th>4</th>\n",
       "      <td>zp713qNhx8d9KCJJnrw1xA</td>\n",
       "      <td>2010-02-12</td>\n",
       "      <td>riFQ3vxNpP4rWLk_CSri2A</td>\n",
       "      <td>5</td>\n",
       "      <td>drop what youre doing and drive here after i a...</td>\n",
       "      <td>review</td>\n",
       "      <td>wFweIWhv2fREZV_dYkz_1g</td>\n",
       "      <td>7</td>\n",
       "      <td>7</td>\n",
       "      <td>4</td>\n",
       "    </tr>\n",
       "    <tr>\n",
       "      <th>...</th>\n",
       "      <td>...</td>\n",
       "      <td>...</td>\n",
       "      <td>...</td>\n",
       "      <td>...</td>\n",
       "      <td>...</td>\n",
       "      <td>...</td>\n",
       "      <td>...</td>\n",
       "      <td>...</td>\n",
       "      <td>...</td>\n",
       "      <td>...</td>\n",
       "    </tr>\n",
       "    <tr>\n",
       "      <th>4081</th>\n",
       "      <td>R8VwdLyvsp9iybNqRvm94g</td>\n",
       "      <td>2011-10-03</td>\n",
       "      <td>pcEeHdAJPoFNF23es0kKWg</td>\n",
       "      <td>5</td>\n",
       "      <td>yes i do rock the hipster joints  i dig this p...</td>\n",
       "      <td>review</td>\n",
       "      <td>b92Y3tyWTQQZ5FLifex62Q</td>\n",
       "      <td>1</td>\n",
       "      <td>1</td>\n",
       "      <td>1</td>\n",
       "    </tr>\n",
       "    <tr>\n",
       "      <th>4082</th>\n",
       "      <td>WJ5mq4EiWYAA4Vif0xDfdg</td>\n",
       "      <td>2011-12-05</td>\n",
       "      <td>EuHX-39FR7tyyG1ElvN1Jw</td>\n",
       "      <td>5</td>\n",
       "      <td>only  stars a few notes the folks that rated t...</td>\n",
       "      <td>review</td>\n",
       "      <td>hTau-iNZFwoNsPCaiIUTEA</td>\n",
       "      <td>1</td>\n",
       "      <td>1</td>\n",
       "      <td>0</td>\n",
       "    </tr>\n",
       "    <tr>\n",
       "      <th>4083</th>\n",
       "      <td>f96lWMIAUhYIYy9gOktivQ</td>\n",
       "      <td>2009-03-10</td>\n",
       "      <td>YF17z7HWlMj6aezZc-pVEw</td>\n",
       "      <td>5</td>\n",
       "      <td>im not normally one to jump at reviewing a cha...</td>\n",
       "      <td>review</td>\n",
       "      <td>W_QXYA7A0IhMrvbckz7eVg</td>\n",
       "      <td>2</td>\n",
       "      <td>3</td>\n",
       "      <td>2</td>\n",
       "    </tr>\n",
       "    <tr>\n",
       "      <th>4084</th>\n",
       "      <td>L3BSpFvxcNf3T_teitgt6A</td>\n",
       "      <td>2012-03-19</td>\n",
       "      <td>0nxb1gIGFgk3WbC5zwhKZg</td>\n",
       "      <td>5</td>\n",
       "      <td>lets seewhat is there not to like about surpri...</td>\n",
       "      <td>review</td>\n",
       "      <td>OzOZv-Knlw3oz9K5Kh5S6A</td>\n",
       "      <td>1</td>\n",
       "      <td>2</td>\n",
       "      <td>1</td>\n",
       "    </tr>\n",
       "    <tr>\n",
       "      <th>4085</th>\n",
       "      <td>pF7uRzygyZsltbmVpjIyvw</td>\n",
       "      <td>2010-10-16</td>\n",
       "      <td>vWSmOhg2ID1MNZHaWapGbA</td>\n",
       "      <td>5</td>\n",
       "      <td>locations all  star average i think arizona r...</td>\n",
       "      <td>review</td>\n",
       "      <td>KSBFytcdjPKZgXKQnYQdkA</td>\n",
       "      <td>0</td>\n",
       "      <td>0</td>\n",
       "      <td>0</td>\n",
       "    </tr>\n",
       "  </tbody>\n",
       "</table>\n",
       "<p>4086 rows × 10 columns</p>\n",
       "</div>"
      ],
      "text/plain": [
       "                 business_id        date               review_id  stars  \\\n",
       "0     9yKzy9PApeiPPOUJEtnvkg  2011-01-26  fWKvX83p0-ka4JS3dc6E5A      5   \n",
       "1     ZRJwVLyzEJq1VAihDhYiow  2011-07-27  IjZ33sJrzXqU-0X6U8NwyA      5   \n",
       "2     _1QQZuf4zZOyFCvXc0o6Vg  2010-05-27  G-WvGaISbqqaMHlNnByodA      5   \n",
       "3     6ozycU1RpktNG2-1BroVtw  2012-01-05  1uJFq2r5QfJG_6ExMRCaGw      5   \n",
       "4     zp713qNhx8d9KCJJnrw1xA  2010-02-12  riFQ3vxNpP4rWLk_CSri2A      5   \n",
       "...                      ...         ...                     ...    ...   \n",
       "4081  R8VwdLyvsp9iybNqRvm94g  2011-10-03  pcEeHdAJPoFNF23es0kKWg      5   \n",
       "4082  WJ5mq4EiWYAA4Vif0xDfdg  2011-12-05  EuHX-39FR7tyyG1ElvN1Jw      5   \n",
       "4083  f96lWMIAUhYIYy9gOktivQ  2009-03-10  YF17z7HWlMj6aezZc-pVEw      5   \n",
       "4084  L3BSpFvxcNf3T_teitgt6A  2012-03-19  0nxb1gIGFgk3WbC5zwhKZg      5   \n",
       "4085  pF7uRzygyZsltbmVpjIyvw  2010-10-16  vWSmOhg2ID1MNZHaWapGbA      5   \n",
       "\n",
       "                                                   text    type  \\\n",
       "0     my wife took me here on my birthday for breakf...  review   \n",
       "1     i have no idea why some people give bad review...  review   \n",
       "2     rosie dakota and i love chaparral dog park its...  review   \n",
       "3     general manager scott petello is a good egg no...  review   \n",
       "4     drop what youre doing and drive here after i a...  review   \n",
       "...                                                 ...     ...   \n",
       "4081  yes i do rock the hipster joints  i dig this p...  review   \n",
       "4082  only  stars a few notes the folks that rated t...  review   \n",
       "4083  im not normally one to jump at reviewing a cha...  review   \n",
       "4084  lets seewhat is there not to like about surpri...  review   \n",
       "4085   locations all  star average i think arizona r...  review   \n",
       "\n",
       "                     user_id  cool  useful  funny  \n",
       "0     rLtl8ZkDX5vH5nAx9C3q5Q     2       5      0  \n",
       "1     0a2KyEL0d3Yb1V6aivbIuQ     0       0      0  \n",
       "2     uZetl9T0NcROGOyFfughhg     1       2      0  \n",
       "3     vYmM4KTsC8ZfQBg-j5MWkw     0       0      0  \n",
       "4     wFweIWhv2fREZV_dYkz_1g     7       7      4  \n",
       "...                      ...   ...     ...    ...  \n",
       "4081  b92Y3tyWTQQZ5FLifex62Q     1       1      1  \n",
       "4082  hTau-iNZFwoNsPCaiIUTEA     1       1      0  \n",
       "4083  W_QXYA7A0IhMrvbckz7eVg     2       3      2  \n",
       "4084  OzOZv-Knlw3oz9K5Kh5S6A     1       2      1  \n",
       "4085  KSBFytcdjPKZgXKQnYQdkA     0       0      0  \n",
       "\n",
       "[4086 rows x 10 columns]"
      ]
     },
     "execution_count": 114,
     "metadata": {},
     "output_type": "execute_result"
    }
   ],
   "source": [
    "yelp"
   ]
  },
  {
   "cell_type": "code",
   "execution_count": 116,
   "id": "11920fbf",
   "metadata": {},
   "outputs": [],
   "source": [
    "from sklearn.tree import DecisionTreeClassifier"
   ]
  },
  {
   "cell_type": "code",
   "execution_count": 117,
   "id": "a9417d18",
   "metadata": {},
   "outputs": [],
   "source": [
    "d=DecisionTreeClassifier()"
   ]
  },
  {
   "cell_type": "code",
   "execution_count": 118,
   "id": "cb095795",
   "metadata": {},
   "outputs": [],
   "source": [
    "from sklearn.model_selection import train_test_split"
   ]
  },
  {
   "cell_type": "code",
   "execution_count": 119,
   "id": "5f8a902d",
   "metadata": {},
   "outputs": [],
   "source": [
    "from nltk.stem import PorterStemmer"
   ]
  },
  {
   "cell_type": "code",
   "execution_count": 120,
   "id": "fab287b0",
   "metadata": {},
   "outputs": [],
   "source": [
    "pr=PorterStemmer()"
   ]
  },
  {
   "cell_type": "code",
   "execution_count": 121,
   "id": "f329d5b1",
   "metadata": {},
   "outputs": [],
   "source": [
    "def lemmafn(text):\n",
    "    word=TextBlob(text).words\n",
    "    return[pr.stem(word) for word in words]"
   ]
  },
  {
   "cell_type": "code",
   "execution_count": 123,
   "id": "4ed7f28c",
   "metadata": {},
   "outputs": [],
   "source": [
    "x=yelp['text']\n",
    "y=yelp['stars']"
   ]
  },
  {
   "cell_type": "code",
   "execution_count": 124,
   "id": "e6635767",
   "metadata": {},
   "outputs": [],
   "source": [
    "x=vect.fit_transform(x)"
   ]
  },
  {
   "cell_type": "code",
   "execution_count": 125,
   "id": "ee25aef7",
   "metadata": {},
   "outputs": [],
   "source": [
    "x_train,x_test,y_train,y_test=train_test_split(x,y,random_state=42,test_size=0.20)"
   ]
  },
  {
   "cell_type": "code",
   "execution_count": 126,
   "id": "aa3712ac",
   "metadata": {},
   "outputs": [
    {
     "data": {
      "text/plain": [
       "DecisionTreeClassifier()"
      ]
     },
     "execution_count": 126,
     "metadata": {},
     "output_type": "execute_result"
    }
   ],
   "source": [
    "d.fit(x_train,y_train)"
   ]
  },
  {
   "cell_type": "code",
   "execution_count": 127,
   "id": "1a9efbc5",
   "metadata": {},
   "outputs": [],
   "source": [
    "pred=d.predict(x_test)"
   ]
  },
  {
   "cell_type": "code",
   "execution_count": 128,
   "id": "72f15546",
   "metadata": {},
   "outputs": [],
   "source": [
    "from sklearn.metrics import accuracy_score"
   ]
  },
  {
   "cell_type": "code",
   "execution_count": 129,
   "id": "607ec004",
   "metadata": {},
   "outputs": [
    {
     "data": {
      "text/plain": [
       "0.8508557457212714"
      ]
     },
     "execution_count": 129,
     "metadata": {},
     "output_type": "execute_result"
    }
   ],
   "source": [
    "accuracy_score(pred,y_test)"
   ]
  },
  {
   "cell_type": "code",
   "execution_count": 130,
   "id": "c00bcd1b",
   "metadata": {},
   "outputs": [],
   "source": [
    "from sklearn.linear_model import LogisticRegression"
   ]
  },
  {
   "cell_type": "code",
   "execution_count": 131,
   "id": "76bec627",
   "metadata": {},
   "outputs": [],
   "source": [
    "l=LogisticRegression()"
   ]
  },
  {
   "cell_type": "code",
   "execution_count": 132,
   "id": "5ef4c186",
   "metadata": {},
   "outputs": [
    {
     "data": {
      "text/plain": [
       "LogisticRegression()"
      ]
     },
     "execution_count": 132,
     "metadata": {},
     "output_type": "execute_result"
    }
   ],
   "source": [
    "l.fit(x_train,y_train)"
   ]
  },
  {
   "cell_type": "code",
   "execution_count": 133,
   "id": "eb6fc6d8",
   "metadata": {},
   "outputs": [],
   "source": [
    "pred=l.predict(x_test)"
   ]
  },
  {
   "cell_type": "code",
   "execution_count": 134,
   "id": "5ea21130",
   "metadata": {},
   "outputs": [
    {
     "data": {
      "text/plain": [
       "0.9156479217603912"
      ]
     },
     "execution_count": 134,
     "metadata": {},
     "output_type": "execute_result"
    }
   ],
   "source": [
    "accuracy_score(pred,y_test)"
   ]
  },
  {
   "cell_type": "code",
   "execution_count": 135,
   "id": "187d5279",
   "metadata": {},
   "outputs": [
    {
     "ename": "AttributeError",
     "evalue": "'LogisticRegression' object has no attribute 'save'",
     "output_type": "error",
     "traceback": [
      "\u001b[1;31m---------------------------------------------------------------------------\u001b[0m",
      "\u001b[1;31mAttributeError\u001b[0m                            Traceback (most recent call last)",
      "\u001b[1;32m~\\AppData\\Local\\Temp\\ipykernel_30464\\2996787272.py\u001b[0m in \u001b[0;36m<module>\u001b[1;34m\u001b[0m\n\u001b[1;32m----> 1\u001b[1;33m \u001b[0ml\u001b[0m\u001b[1;33m.\u001b[0m\u001b[0msave\u001b[0m\u001b[1;33m(\u001b[0m\u001b[1;33m)\u001b[0m\u001b[1;33m\u001b[0m\u001b[1;33m\u001b[0m\u001b[0m\n\u001b[0m",
      "\u001b[1;31mAttributeError\u001b[0m: 'LogisticRegression' object has no attribute 'save'"
     ]
    }
   ],
   "source": [
    "l.save()"
   ]
  },
  {
   "cell_type": "code",
   "execution_count": null,
   "id": "0c118c3d",
   "metadata": {},
   "outputs": [],
   "source": []
  }
 ],
 "metadata": {
  "kernelspec": {
   "display_name": "Python 3 (ipykernel)",
   "language": "python",
   "name": "python3"
  },
  "language_info": {
   "codemirror_mode": {
    "name": "ipython",
    "version": 3
   },
   "file_extension": ".py",
   "mimetype": "text/x-python",
   "name": "python",
   "nbconvert_exporter": "python",
   "pygments_lexer": "ipython3",
   "version": "3.9.13"
  }
 },
 "nbformat": 4,
 "nbformat_minor": 5
}
